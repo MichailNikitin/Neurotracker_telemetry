{
 "cells": [
  {
   "cell_type": "code",
   "execution_count": 2,
   "id": "6f5cb3a9-69ce-4ecc-bb89-dde8f9fe7131",
   "metadata": {},
   "outputs": [],
   "source": [
    "import pandas as pd\n",
    "import numpy as np\n",
    "import matplotlib.pyplot as plt\n",
    "from tqdm.notebook import tqdm"
   ]
  },
  {
   "cell_type": "code",
   "execution_count": 3,
   "id": "6490ae78-626c-4e59-8a45-2f086833daf2",
   "metadata": {},
   "outputs": [],
   "source": [
    "df = pd.read_csv(\"Обезличенные данные.csv\", delimiter=\";\")\n",
    "df['time'] = pd.to_datetime(df['time'], unit='ms')"
   ]
  },
  {
   "cell_type": "code",
   "execution_count": 4,
   "id": "6ec3d3c0-a5c1-4141-b4a7-bfb8bdb26b71",
   "metadata": {},
   "outputs": [
    {
     "data": {
      "text/html": [
       "<div>\n",
       "<style scoped>\n",
       "    .dataframe tbody tr th:only-of-type {\n",
       "        vertical-align: middle;\n",
       "    }\n",
       "\n",
       "    .dataframe tbody tr th {\n",
       "        vertical-align: top;\n",
       "    }\n",
       "\n",
       "    .dataframe thead th {\n",
       "        text-align: right;\n",
       "    }\n",
       "</style>\n",
       "<table border=\"1\" class=\"dataframe\">\n",
       "  <thead>\n",
       "    <tr style=\"text-align: right;\">\n",
       "      <th></th>\n",
       "      <th>id</th>\n",
       "      <th>user_id</th>\n",
       "      <th>tracker_id</th>\n",
       "      <th>type</th>\n",
       "      <th>value</th>\n",
       "      <th>sys</th>\n",
       "      <th>dia</th>\n",
       "      <th>time</th>\n",
       "    </tr>\n",
       "  </thead>\n",
       "  <tbody>\n",
       "    <tr>\n",
       "      <th>0</th>\n",
       "      <td>38b85172-a353-40f0-afbe-c484c4a7d10a</td>\n",
       "      <td>dc7a7473-b06c-4571-b8b6-8a72077c5a79</td>\n",
       "      <td>NaN</td>\n",
       "      <td>Steps</td>\n",
       "      <td>16447.0</td>\n",
       "      <td>NaN</td>\n",
       "      <td>NaN</td>\n",
       "      <td>2024-08-06 20:55:16</td>\n",
       "    </tr>\n",
       "    <tr>\n",
       "      <th>1</th>\n",
       "      <td>a762a7ec-0627-487f-b5b7-a741693e5f68</td>\n",
       "      <td>dc7a7473-b06c-4571-b8b6-8a72077c5a79</td>\n",
       "      <td>NaN</td>\n",
       "      <td>Glucose</td>\n",
       "      <td>6.9</td>\n",
       "      <td>NaN</td>\n",
       "      <td>NaN</td>\n",
       "      <td>2024-08-06 20:55:16</td>\n",
       "    </tr>\n",
       "    <tr>\n",
       "      <th>2</th>\n",
       "      <td>2ae155d9-28ae-4a62-a10c-81480893647c</td>\n",
       "      <td>dc7a7473-b06c-4571-b8b6-8a72077c5a79</td>\n",
       "      <td>NaN</td>\n",
       "      <td>Temperature</td>\n",
       "      <td>36.5</td>\n",
       "      <td>NaN</td>\n",
       "      <td>NaN</td>\n",
       "      <td>2024-08-06 21:05:27</td>\n",
       "    </tr>\n",
       "    <tr>\n",
       "      <th>3</th>\n",
       "      <td>ca947e2c-72f6-4b68-856e-595fa8964b15</td>\n",
       "      <td>dc7a7473-b06c-4571-b8b6-8a72077c5a79</td>\n",
       "      <td>NaN</td>\n",
       "      <td>Pulse</td>\n",
       "      <td>90.0</td>\n",
       "      <td>NaN</td>\n",
       "      <td>NaN</td>\n",
       "      <td>2024-08-06 21:05:27</td>\n",
       "    </tr>\n",
       "    <tr>\n",
       "      <th>4</th>\n",
       "      <td>6a77efe9-8482-4dd6-875c-b188e2e894be</td>\n",
       "      <td>dc7a7473-b06c-4571-b8b6-8a72077c5a79</td>\n",
       "      <td>NaN</td>\n",
       "      <td>Breath</td>\n",
       "      <td>18.0</td>\n",
       "      <td>NaN</td>\n",
       "      <td>NaN</td>\n",
       "      <td>2024-08-06 21:05:27</td>\n",
       "    </tr>\n",
       "    <tr>\n",
       "      <th>...</th>\n",
       "      <td>...</td>\n",
       "      <td>...</td>\n",
       "      <td>...</td>\n",
       "      <td>...</td>\n",
       "      <td>...</td>\n",
       "      <td>...</td>\n",
       "      <td>...</td>\n",
       "      <td>...</td>\n",
       "    </tr>\n",
       "    <tr>\n",
       "      <th>4763036</th>\n",
       "      <td>b5d3ed60-f845-4e04-8a95-d98a4fe1e93b</td>\n",
       "      <td>dc7a7473-b06c-4571-b8b6-8a72077c5a79</td>\n",
       "      <td>NaN</td>\n",
       "      <td>Glucose</td>\n",
       "      <td>6.9</td>\n",
       "      <td>NaN</td>\n",
       "      <td>NaN</td>\n",
       "      <td>2024-08-06 20:50:18</td>\n",
       "    </tr>\n",
       "    <tr>\n",
       "      <th>4763037</th>\n",
       "      <td>28a7cd7d-e0bf-4021-ac98-23bf564fa2f9</td>\n",
       "      <td>dc7a7473-b06c-4571-b8b6-8a72077c5a79</td>\n",
       "      <td>NaN</td>\n",
       "      <td>BloodPressure</td>\n",
       "      <td>NaN</td>\n",
       "      <td>104.0</td>\n",
       "      <td>66.0</td>\n",
       "      <td>2024-08-06 20:50:18</td>\n",
       "    </tr>\n",
       "    <tr>\n",
       "      <th>4763038</th>\n",
       "      <td>532f5d61-abc5-48b8-ae9d-3efad14da5a8</td>\n",
       "      <td>dc7a7473-b06c-4571-b8b6-8a72077c5a79</td>\n",
       "      <td>NaN</td>\n",
       "      <td>Temperature</td>\n",
       "      <td>36.5</td>\n",
       "      <td>NaN</td>\n",
       "      <td>NaN</td>\n",
       "      <td>2024-08-06 20:55:16</td>\n",
       "    </tr>\n",
       "    <tr>\n",
       "      <th>4763039</th>\n",
       "      <td>f2fe1e0b-3dcf-43ea-a2fe-0d8c94575b4c</td>\n",
       "      <td>dc7a7473-b06c-4571-b8b6-8a72077c5a79</td>\n",
       "      <td>NaN</td>\n",
       "      <td>Pulse</td>\n",
       "      <td>77.0</td>\n",
       "      <td>NaN</td>\n",
       "      <td>NaN</td>\n",
       "      <td>2024-08-06 20:55:16</td>\n",
       "    </tr>\n",
       "    <tr>\n",
       "      <th>4763040</th>\n",
       "      <td>bf29d0a0-fd3c-432c-93a5-1a60f6b4c219</td>\n",
       "      <td>dc7a7473-b06c-4571-b8b6-8a72077c5a79</td>\n",
       "      <td>NaN</td>\n",
       "      <td>Breath</td>\n",
       "      <td>16.0</td>\n",
       "      <td>NaN</td>\n",
       "      <td>NaN</td>\n",
       "      <td>2024-08-06 20:55:16</td>\n",
       "    </tr>\n",
       "  </tbody>\n",
       "</table>\n",
       "<p>4763041 rows × 8 columns</p>\n",
       "</div>"
      ],
      "text/plain": [
       "                                           id  \\\n",
       "0        38b85172-a353-40f0-afbe-c484c4a7d10a   \n",
       "1        a762a7ec-0627-487f-b5b7-a741693e5f68   \n",
       "2        2ae155d9-28ae-4a62-a10c-81480893647c   \n",
       "3        ca947e2c-72f6-4b68-856e-595fa8964b15   \n",
       "4        6a77efe9-8482-4dd6-875c-b188e2e894be   \n",
       "...                                       ...   \n",
       "4763036  b5d3ed60-f845-4e04-8a95-d98a4fe1e93b   \n",
       "4763037  28a7cd7d-e0bf-4021-ac98-23bf564fa2f9   \n",
       "4763038  532f5d61-abc5-48b8-ae9d-3efad14da5a8   \n",
       "4763039  f2fe1e0b-3dcf-43ea-a2fe-0d8c94575b4c   \n",
       "4763040  bf29d0a0-fd3c-432c-93a5-1a60f6b4c219   \n",
       "\n",
       "                                      user_id  tracker_id           type  \\\n",
       "0        dc7a7473-b06c-4571-b8b6-8a72077c5a79         NaN          Steps   \n",
       "1        dc7a7473-b06c-4571-b8b6-8a72077c5a79         NaN        Glucose   \n",
       "2        dc7a7473-b06c-4571-b8b6-8a72077c5a79         NaN    Temperature   \n",
       "3        dc7a7473-b06c-4571-b8b6-8a72077c5a79         NaN          Pulse   \n",
       "4        dc7a7473-b06c-4571-b8b6-8a72077c5a79         NaN         Breath   \n",
       "...                                       ...         ...            ...   \n",
       "4763036  dc7a7473-b06c-4571-b8b6-8a72077c5a79         NaN        Glucose   \n",
       "4763037  dc7a7473-b06c-4571-b8b6-8a72077c5a79         NaN  BloodPressure   \n",
       "4763038  dc7a7473-b06c-4571-b8b6-8a72077c5a79         NaN    Temperature   \n",
       "4763039  dc7a7473-b06c-4571-b8b6-8a72077c5a79         NaN          Pulse   \n",
       "4763040  dc7a7473-b06c-4571-b8b6-8a72077c5a79         NaN         Breath   \n",
       "\n",
       "           value    sys   dia                time  \n",
       "0        16447.0    NaN   NaN 2024-08-06 20:55:16  \n",
       "1            6.9    NaN   NaN 2024-08-06 20:55:16  \n",
       "2           36.5    NaN   NaN 2024-08-06 21:05:27  \n",
       "3           90.0    NaN   NaN 2024-08-06 21:05:27  \n",
       "4           18.0    NaN   NaN 2024-08-06 21:05:27  \n",
       "...          ...    ...   ...                 ...  \n",
       "4763036      6.9    NaN   NaN 2024-08-06 20:50:18  \n",
       "4763037      NaN  104.0  66.0 2024-08-06 20:50:18  \n",
       "4763038     36.5    NaN   NaN 2024-08-06 20:55:16  \n",
       "4763039     77.0    NaN   NaN 2024-08-06 20:55:16  \n",
       "4763040     16.0    NaN   NaN 2024-08-06 20:55:16  \n",
       "\n",
       "[4763041 rows x 8 columns]"
      ]
     },
     "execution_count": 4,
     "metadata": {},
     "output_type": "execute_result"
    }
   ],
   "source": [
    "df"
   ]
  },
  {
   "cell_type": "markdown",
   "id": "4b177e73-e6dd-4a0e-8e4d-1e7f2dd87761",
   "metadata": {},
   "source": [
    "sys - Систолическое давление это максимальное давление в артериях в момент, когда сердце сжимается и выталкивает кровь в артерии  \n",
    "dia - Диастолическое давление показывает давление в артериях в момент расслабления сердечной мышцы, оно отражает сопротивление периферических сосудов  \n",
    "Oxygenation - обогощение кислородом в процентах\n"
   ]
  },
  {
   "cell_type": "code",
   "execution_count": 5,
   "id": "e1d96cb6-f8b0-4298-853e-d300d69c46a7",
   "metadata": {},
   "outputs": [],
   "source": [
    "datatime_uniq_vals = np.unique(df[\"time\"])"
   ]
  },
  {
   "cell_type": "code",
   "execution_count": 6,
   "id": "a41c7456-97d7-49bf-a639-3f9be31d45cd",
   "metadata": {},
   "outputs": [
    {
     "data": {
      "text/plain": [
       "(384991,)"
      ]
     },
     "execution_count": 6,
     "metadata": {},
     "output_type": "execute_result"
    }
   ],
   "source": [
    "datatime_uniq_vals.shape"
   ]
  },
  {
   "cell_type": "code",
   "execution_count": 7,
   "id": "5f98378d-e503-4f73-91ce-86b88d1c36bb",
   "metadata": {},
   "outputs": [],
   "source": [
    "data_values_type = np.unique(df[\"type\"])"
   ]
  },
  {
   "cell_type": "code",
   "execution_count": 8,
   "id": "8dcd7290-7ed7-4f71-a0eb-1784b5825767",
   "metadata": {},
   "outputs": [],
   "source": [
    "uniq_user_id = np.unique(df[\"user_id\"])"
   ]
  },
  {
   "cell_type": "code",
   "execution_count": 9,
   "id": "4efd23a0-5193-45f1-bbee-28813f7ca7c1",
   "metadata": {},
   "outputs": [
    {
     "data": {
      "text/plain": [
       "(1098,)"
      ]
     },
     "execution_count": 9,
     "metadata": {},
     "output_type": "execute_result"
    }
   ],
   "source": [
    "uniq_user_id.shape"
   ]
  },
  {
   "cell_type": "code",
   "execution_count": 10,
   "id": "37a4cea5-ce18-4abe-acd9-fbea50ecdfbe",
   "metadata": {},
   "outputs": [
    {
     "data": {
      "text/plain": [
       "array(['Adoptability', 'Age', 'AvgPulse', 'BloodPressure', 'Breath',\n",
       "       'EDA', 'Ecg', 'Glucose', 'Neuroplasticity', 'Oxygenation', 'Pulse',\n",
       "       'Steps', 'Temperature', 'Vitality'], dtype=object)"
      ]
     },
     "execution_count": 10,
     "metadata": {},
     "output_type": "execute_result"
    }
   ],
   "source": [
    "data_values_type"
   ]
  },
  {
   "cell_type": "code",
   "execution_count": 11,
   "id": "835e6625-6f88-4ab1-94ba-f3af5be5a46e",
   "metadata": {},
   "outputs": [],
   "source": [
    "bad_data = ['Age', 'EDA', 'Ecg', 'Vitality', 'Neuroplasticity', 'Adoptability', 'Steps', 'Breath']\n",
    "bio_data_values_type = [data for data in data_values_type if data not in bad_data+['BloodPressure']]"
   ]
  },
  {
   "cell_type": "code",
   "execution_count": 12,
   "id": "dec6e539-20f6-4f02-a1c7-7d31147a1a3c",
   "metadata": {},
   "outputs": [
    {
     "data": {
      "text/plain": [
       "['AvgPulse', 'Glucose', 'Oxygenation', 'Pulse', 'Temperature']"
      ]
     },
     "execution_count": 12,
     "metadata": {},
     "output_type": "execute_result"
    }
   ],
   "source": [
    "bio_data_values_type"
   ]
  },
  {
   "cell_type": "code",
   "execution_count": 13,
   "id": "e58f87a9-bc8a-43aa-98b4-e04093830c12",
   "metadata": {},
   "outputs": [
    {
     "data": {
      "text/html": [
       "<div>\n",
       "<style scoped>\n",
       "    .dataframe tbody tr th:only-of-type {\n",
       "        vertical-align: middle;\n",
       "    }\n",
       "\n",
       "    .dataframe tbody tr th {\n",
       "        vertical-align: top;\n",
       "    }\n",
       "\n",
       "    .dataframe thead th {\n",
       "        text-align: right;\n",
       "    }\n",
       "</style>\n",
       "<table border=\"1\" class=\"dataframe\">\n",
       "  <thead>\n",
       "    <tr style=\"text-align: right;\">\n",
       "      <th></th>\n",
       "      <th>sys</th>\n",
       "      <th>dia</th>\n",
       "    </tr>\n",
       "    <tr>\n",
       "      <th>time</th>\n",
       "      <th></th>\n",
       "      <th></th>\n",
       "    </tr>\n",
       "  </thead>\n",
       "  <tbody>\n",
       "    <tr>\n",
       "      <th>2019-12-31 23:40:24</th>\n",
       "      <td>113.0</td>\n",
       "      <td>76.0</td>\n",
       "    </tr>\n",
       "    <tr>\n",
       "      <th>2019-12-31 23:50:00</th>\n",
       "      <td>112.0</td>\n",
       "      <td>74.0</td>\n",
       "    </tr>\n",
       "    <tr>\n",
       "      <th>2020-01-01 00:20:35</th>\n",
       "      <td>107.0</td>\n",
       "      <td>70.0</td>\n",
       "    </tr>\n",
       "    <tr>\n",
       "      <th>2020-01-01 01:30:35</th>\n",
       "      <td>115.0</td>\n",
       "      <td>77.0</td>\n",
       "    </tr>\n",
       "    <tr>\n",
       "      <th>2020-01-01 01:40:25</th>\n",
       "      <td>115.0</td>\n",
       "      <td>75.0</td>\n",
       "    </tr>\n",
       "    <tr>\n",
       "      <th>...</th>\n",
       "      <td>...</td>\n",
       "      <td>...</td>\n",
       "    </tr>\n",
       "    <tr>\n",
       "      <th>2024-10-25 07:10:31</th>\n",
       "      <td>105.0</td>\n",
       "      <td>66.0</td>\n",
       "    </tr>\n",
       "    <tr>\n",
       "      <th>2024-10-25 07:20:21</th>\n",
       "      <td>103.0</td>\n",
       "      <td>69.0</td>\n",
       "    </tr>\n",
       "    <tr>\n",
       "      <th>2024-10-25 07:20:35</th>\n",
       "      <td>105.0</td>\n",
       "      <td>67.0</td>\n",
       "    </tr>\n",
       "    <tr>\n",
       "      <th>2024-10-25 07:30:26</th>\n",
       "      <td>105.0</td>\n",
       "      <td>67.0</td>\n",
       "    </tr>\n",
       "    <tr>\n",
       "      <th>2024-10-25 07:30:35</th>\n",
       "      <td>102.0</td>\n",
       "      <td>66.0</td>\n",
       "    </tr>\n",
       "  </tbody>\n",
       "</table>\n",
       "<p>80676 rows × 2 columns</p>\n",
       "</div>"
      ],
      "text/plain": [
       "                       sys   dia\n",
       "time                            \n",
       "2019-12-31 23:40:24  113.0  76.0\n",
       "2019-12-31 23:50:00  112.0  74.0\n",
       "2020-01-01 00:20:35  107.0  70.0\n",
       "2020-01-01 01:30:35  115.0  77.0\n",
       "2020-01-01 01:40:25  115.0  75.0\n",
       "...                    ...   ...\n",
       "2024-10-25 07:10:31  105.0  66.0\n",
       "2024-10-25 07:20:21  103.0  69.0\n",
       "2024-10-25 07:20:35  105.0  67.0\n",
       "2024-10-25 07:30:26  105.0  67.0\n",
       "2024-10-25 07:30:35  102.0  66.0\n",
       "\n",
       "[80676 rows x 2 columns]"
      ]
     },
     "execution_count": 13,
     "metadata": {},
     "output_type": "execute_result"
    }
   ],
   "source": [
    "df_bloodpressure = df[['sys', 'dia', 'time']].groupby('time').agg('mean').dropna()\n",
    "df_bloodpressure"
   ]
  },
  {
   "cell_type": "code",
   "execution_count": 14,
   "id": "5be4979e-3374-40c0-ba3f-fce57dac6ef1",
   "metadata": {},
   "outputs": [
    {
     "data": {
      "text/html": [
       "<div>\n",
       "<style scoped>\n",
       "    .dataframe tbody tr th:only-of-type {\n",
       "        vertical-align: middle;\n",
       "    }\n",
       "\n",
       "    .dataframe tbody tr th {\n",
       "        vertical-align: top;\n",
       "    }\n",
       "\n",
       "    .dataframe thead th {\n",
       "        text-align: right;\n",
       "    }\n",
       "</style>\n",
       "<table border=\"1\" class=\"dataframe\">\n",
       "  <thead>\n",
       "    <tr style=\"text-align: right;\">\n",
       "      <th>type</th>\n",
       "      <th>AvgPulse</th>\n",
       "      <th>Glucose</th>\n",
       "      <th>Oxygenation</th>\n",
       "      <th>Pulse</th>\n",
       "      <th>Temperature</th>\n",
       "    </tr>\n",
       "    <tr>\n",
       "      <th>time</th>\n",
       "      <th></th>\n",
       "      <th></th>\n",
       "      <th></th>\n",
       "      <th></th>\n",
       "      <th></th>\n",
       "    </tr>\n",
       "  </thead>\n",
       "  <tbody>\n",
       "    <tr>\n",
       "      <th>2024-03-11 20:38:03.456</th>\n",
       "      <td>90.00</td>\n",
       "      <td>8.00</td>\n",
       "      <td>5.00</td>\n",
       "      <td>82.00</td>\n",
       "      <td>36.60</td>\n",
       "    </tr>\n",
       "    <tr>\n",
       "      <th>2024-03-11 20:38:03.686</th>\n",
       "      <td>93.00</td>\n",
       "      <td>7.00</td>\n",
       "      <td>6.00</td>\n",
       "      <td>88.00</td>\n",
       "      <td>36.70</td>\n",
       "    </tr>\n",
       "    <tr>\n",
       "      <th>2024-03-11 20:38:03.814</th>\n",
       "      <td>89.00</td>\n",
       "      <td>5.00</td>\n",
       "      <td>5.00</td>\n",
       "      <td>90.00</td>\n",
       "      <td>36.60</td>\n",
       "    </tr>\n",
       "    <tr>\n",
       "      <th>2024-03-11 20:38:03.941</th>\n",
       "      <td>87.00</td>\n",
       "      <td>6.00</td>\n",
       "      <td>6.00</td>\n",
       "      <td>87.00</td>\n",
       "      <td>36.50</td>\n",
       "    </tr>\n",
       "    <tr>\n",
       "      <th>2024-03-11 20:38:04.066</th>\n",
       "      <td>83.00</td>\n",
       "      <td>5.00</td>\n",
       "      <td>7.00</td>\n",
       "      <td>93.00</td>\n",
       "      <td>36.80</td>\n",
       "    </tr>\n",
       "    <tr>\n",
       "      <th>...</th>\n",
       "      <td>...</td>\n",
       "      <td>...</td>\n",
       "      <td>...</td>\n",
       "      <td>...</td>\n",
       "      <td>...</td>\n",
       "    </tr>\n",
       "    <tr>\n",
       "      <th>2024-05-21 20:43:39.568</th>\n",
       "      <td>502.55</td>\n",
       "      <td>4.02</td>\n",
       "      <td>97.92</td>\n",
       "      <td>71.78</td>\n",
       "      <td>37.94</td>\n",
       "    </tr>\n",
       "    <tr>\n",
       "      <th>2024-05-21 20:48:39.612</th>\n",
       "      <td>504.73</td>\n",
       "      <td>4.24</td>\n",
       "      <td>97.36</td>\n",
       "      <td>76.24</td>\n",
       "      <td>37.15</td>\n",
       "    </tr>\n",
       "    <tr>\n",
       "      <th>2024-05-21 20:53:39.653</th>\n",
       "      <td>506.13</td>\n",
       "      <td>4.19</td>\n",
       "      <td>97.43</td>\n",
       "      <td>75.85</td>\n",
       "      <td>36.01</td>\n",
       "    </tr>\n",
       "    <tr>\n",
       "      <th>2024-05-21 20:58:39.683</th>\n",
       "      <td>507.83</td>\n",
       "      <td>4.50</td>\n",
       "      <td>96.15</td>\n",
       "      <td>78.65</td>\n",
       "      <td>37.23</td>\n",
       "    </tr>\n",
       "    <tr>\n",
       "      <th>2024-05-21 21:03:39.730</th>\n",
       "      <td>506.24</td>\n",
       "      <td>5.01</td>\n",
       "      <td>97.78</td>\n",
       "      <td>76.28</td>\n",
       "      <td>36.92</td>\n",
       "    </tr>\n",
       "  </tbody>\n",
       "</table>\n",
       "<p>180628 rows × 5 columns</p>\n",
       "</div>"
      ],
      "text/plain": [
       "type                     AvgPulse  Glucose  Oxygenation  Pulse  Temperature\n",
       "time                                                                       \n",
       "2024-03-11 20:38:03.456     90.00     8.00         5.00  82.00        36.60\n",
       "2024-03-11 20:38:03.686     93.00     7.00         6.00  88.00        36.70\n",
       "2024-03-11 20:38:03.814     89.00     5.00         5.00  90.00        36.60\n",
       "2024-03-11 20:38:03.941     87.00     6.00         6.00  87.00        36.50\n",
       "2024-03-11 20:38:04.066     83.00     5.00         7.00  93.00        36.80\n",
       "...                           ...      ...          ...    ...          ...\n",
       "2024-05-21 20:43:39.568    502.55     4.02        97.92  71.78        37.94\n",
       "2024-05-21 20:48:39.612    504.73     4.24        97.36  76.24        37.15\n",
       "2024-05-21 20:53:39.653    506.13     4.19        97.43  75.85        36.01\n",
       "2024-05-21 20:58:39.683    507.83     4.50        96.15  78.65        37.23\n",
       "2024-05-21 21:03:39.730    506.24     5.01        97.78  76.28        36.92\n",
       "\n",
       "[180628 rows x 5 columns]"
      ]
     },
     "execution_count": 14,
     "metadata": {},
     "output_type": "execute_result"
    }
   ],
   "source": [
    "pivot_df = df.pivot_table(index='time', columns='type', values='value', aggfunc='mean')\n",
    "df_bio = pivot_df[bio_data_values_type].dropna()\n",
    "df_bio"
   ]
  },
  {
   "cell_type": "code",
   "execution_count": 15,
   "id": "07dde491-c088-4466-8a19-569cc53baa17",
   "metadata": {},
   "outputs": [
    {
     "data": {
      "text/html": [
       "<div>\n",
       "<style scoped>\n",
       "    .dataframe tbody tr th:only-of-type {\n",
       "        vertical-align: middle;\n",
       "    }\n",
       "\n",
       "    .dataframe tbody tr th {\n",
       "        vertical-align: top;\n",
       "    }\n",
       "\n",
       "    .dataframe thead th {\n",
       "        text-align: right;\n",
       "    }\n",
       "</style>\n",
       "<table border=\"1\" class=\"dataframe\">\n",
       "  <thead>\n",
       "    <tr style=\"text-align: right;\">\n",
       "      <th>type</th>\n",
       "      <th>AvgPulse</th>\n",
       "      <th>Glucose</th>\n",
       "      <th>Oxygenation</th>\n",
       "      <th>Pulse</th>\n",
       "      <th>Temperature</th>\n",
       "    </tr>\n",
       "    <tr>\n",
       "      <th>time</th>\n",
       "      <th></th>\n",
       "      <th></th>\n",
       "      <th></th>\n",
       "      <th></th>\n",
       "      <th></th>\n",
       "    </tr>\n",
       "  </thead>\n",
       "  <tbody>\n",
       "    <tr>\n",
       "      <th>2024-03-11 20:38:03.456</th>\n",
       "      <td>90.0</td>\n",
       "      <td>8.0</td>\n",
       "      <td>5.0</td>\n",
       "      <td>82.0</td>\n",
       "      <td>36.6</td>\n",
       "    </tr>\n",
       "    <tr>\n",
       "      <th>2024-03-11 20:38:03.686</th>\n",
       "      <td>93.0</td>\n",
       "      <td>7.0</td>\n",
       "      <td>6.0</td>\n",
       "      <td>88.0</td>\n",
       "      <td>36.7</td>\n",
       "    </tr>\n",
       "    <tr>\n",
       "      <th>2024-03-11 20:38:03.814</th>\n",
       "      <td>89.0</td>\n",
       "      <td>5.0</td>\n",
       "      <td>5.0</td>\n",
       "      <td>90.0</td>\n",
       "      <td>36.6</td>\n",
       "    </tr>\n",
       "    <tr>\n",
       "      <th>2024-03-11 20:38:03.941</th>\n",
       "      <td>87.0</td>\n",
       "      <td>6.0</td>\n",
       "      <td>6.0</td>\n",
       "      <td>87.0</td>\n",
       "      <td>36.5</td>\n",
       "    </tr>\n",
       "    <tr>\n",
       "      <th>2024-03-11 20:38:04.066</th>\n",
       "      <td>83.0</td>\n",
       "      <td>5.0</td>\n",
       "      <td>7.0</td>\n",
       "      <td>93.0</td>\n",
       "      <td>36.8</td>\n",
       "    </tr>\n",
       "    <tr>\n",
       "      <th>...</th>\n",
       "      <td>...</td>\n",
       "      <td>...</td>\n",
       "      <td>...</td>\n",
       "      <td>...</td>\n",
       "      <td>...</td>\n",
       "    </tr>\n",
       "    <tr>\n",
       "      <th>2024-03-12 00:07:23.652</th>\n",
       "      <td>95.0</td>\n",
       "      <td>8.0</td>\n",
       "      <td>5.0</td>\n",
       "      <td>97.0</td>\n",
       "      <td>36.5</td>\n",
       "    </tr>\n",
       "    <tr>\n",
       "      <th>2024-03-12 00:07:24.372</th>\n",
       "      <td>85.0</td>\n",
       "      <td>6.0</td>\n",
       "      <td>7.0</td>\n",
       "      <td>80.0</td>\n",
       "      <td>36.8</td>\n",
       "    </tr>\n",
       "    <tr>\n",
       "      <th>2024-03-12 00:07:25.823</th>\n",
       "      <td>82.0</td>\n",
       "      <td>6.0</td>\n",
       "      <td>7.0</td>\n",
       "      <td>90.0</td>\n",
       "      <td>36.8</td>\n",
       "    </tr>\n",
       "    <tr>\n",
       "      <th>2024-03-12 00:07:27.728</th>\n",
       "      <td>86.0</td>\n",
       "      <td>8.0</td>\n",
       "      <td>6.0</td>\n",
       "      <td>98.0</td>\n",
       "      <td>36.6</td>\n",
       "    </tr>\n",
       "    <tr>\n",
       "      <th>2024-03-12 00:07:29.925</th>\n",
       "      <td>81.0</td>\n",
       "      <td>6.0</td>\n",
       "      <td>7.0</td>\n",
       "      <td>85.0</td>\n",
       "      <td>36.7</td>\n",
       "    </tr>\n",
       "  </tbody>\n",
       "</table>\n",
       "<p>180621 rows × 5 columns</p>\n",
       "</div>"
      ],
      "text/plain": [
       "type                     AvgPulse  Glucose  Oxygenation  Pulse  Temperature\n",
       "time                                                                       \n",
       "2024-03-11 20:38:03.456      90.0      8.0          5.0   82.0         36.6\n",
       "2024-03-11 20:38:03.686      93.0      7.0          6.0   88.0         36.7\n",
       "2024-03-11 20:38:03.814      89.0      5.0          5.0   90.0         36.6\n",
       "2024-03-11 20:38:03.941      87.0      6.0          6.0   87.0         36.5\n",
       "2024-03-11 20:38:04.066      83.0      5.0          7.0   93.0         36.8\n",
       "...                           ...      ...          ...    ...          ...\n",
       "2024-03-12 00:07:23.652      95.0      8.0          5.0   97.0         36.5\n",
       "2024-03-12 00:07:24.372      85.0      6.0          7.0   80.0         36.8\n",
       "2024-03-12 00:07:25.823      82.0      6.0          7.0   90.0         36.8\n",
       "2024-03-12 00:07:27.728      86.0      8.0          6.0   98.0         36.6\n",
       "2024-03-12 00:07:29.925      81.0      6.0          7.0   85.0         36.7\n",
       "\n",
       "[180621 rows x 5 columns]"
      ]
     },
     "execution_count": 15,
     "metadata": {},
     "output_type": "execute_result"
    }
   ],
   "source": [
    "df_bio = df_bio[df_bio['AvgPulse']<=(df_bio['AvgPulse'].mean()+3*df_bio['AvgPulse'].std())]\n",
    "df_bio"
   ]
  },
  {
   "cell_type": "code",
   "execution_count": 15,
   "id": "f8356834-aeee-4304-bba7-91c1a4646fb5",
   "metadata": {},
   "outputs": [
    {
     "name": "stdout",
     "output_type": "stream",
     "text": [
      "AvgPulse: Min-80.0, Mean-89.4893450927633, Std-5.759162561382705, Max-99.0\n",
      "Glucose: Min-5.0, Mean-6.50328311768842, Std-1.1160478488712084, Max-8.0\n",
      "Oxygenation: Min-5.0, Mean-7.003222216685767, Std-1.411395216064218, Max-9.0\n",
      "Pulse: Min-80.0, Mean-89.49363861345026, Std-5.758756116712645, Max-99.0\n",
      "Temperature: Min-36.5, Mean-36.6500415234109, Std-0.11166142670694705, Max-36.8\n"
     ]
    }
   ],
   "source": [
    "for dtype in bio_data_values_type:\n",
    "    print(f\"{dtype}: Min-{df_bio[dtype].min()}, Mean-{df_bio[dtype].mean()}, Std-{df_bio[dtype].std()}, Max-{df_bio[dtype].max()}\")"
   ]
  },
  {
   "cell_type": "code",
   "execution_count": 49,
   "id": "d47a7ff4-2564-4a09-bf2e-a45d63c77c6e",
   "metadata": {
    "scrolled": true
   },
   "outputs": [
    {
     "name": "stderr",
     "output_type": "stream",
     "text": [
      "C:\\Users\\Braham\\AppData\\Local\\Temp\\ipykernel_25132\\1998114573.py:18: UserWarning: FigureCanvasAgg is non-interactive, and thus cannot be shown\n",
      "  fig.show()\n"
     ]
    },
    {
     "data": {
      "image/png": "[encoded data removed]",
      "text/plain": [
       "<Figure size 640x480 with 1 Axes>"
      ]
     },
     "metadata": {},
     "output_type": "display_data"
    },
    {
     "data": {
      "image/png": "[encoded data removed]",
      "text/plain": [
       "<Figure size 640x480 with 1 Axes>"
      ]
     },
     "metadata": {},
     "output_type": "display_data"
    },
    {
     "data": {
      "image/png": "[encoded data removed]",
      "text/plain": [
       "<Figure size 640x480 with 1 Axes>"
      ]
     },
     "metadata": {},
     "output_type": "display_data"
    },
    {
     "data": {
      "image/png": "[encoded data removed]",
      "text/plain": [
       "<Figure size 640x480 with 1 Axes>"
      ]
     },
     "metadata": {},
     "output_type": "display_data"
    },
    {
     "data": {
      "image/png": "[encoded data removed]",
      "text/plain": [
       "<Figure size 640x480 with 1 Axes>"
      ]
     },
     "metadata": {},
     "output_type": "display_data"
    }
   ],
   "source": [
    "#fast fiz for anomaly\n",
    "for dtype in bio_data_values_type:\n",
    "    y = df_bio[dtype].values\n",
    "    x = np.arange(0, y.shape[0])\n",
    "    y_t = np.zeros_like(y)+df_bio[dtype].mean()+3*df_bio[dtype].std()\n",
    "    y_b = np.zeros_like(y)+df_bio[dtype].mean()-3*df_bio[dtype].std()\n",
    "    \n",
    "    fig = plt.figure()\n",
    "\n",
    "    ax = fig.add_subplot(111)\n",
    "\n",
    "    ax.scatter(x,y, s=0.1)\n",
    "    ax.plot(x, y_t, linestyle=\"dotted\", c='r')\n",
    "    ax.plot(x, y_b, linestyle=\"dotted\", c='r')\n",
    "\n",
    "    ax.set_title(f\"Viz {dtype} data values\")\n",
    "\n",
    "    fig.show()"
   ]
  },
  {
   "cell_type": "markdown",
   "id": "ec70d2b6-33be-4b2a-a716-f2b3497cae3e",
   "metadata": {},
   "source": [
    "# clustering by bio data"
   ]
  },
  {
   "cell_type": "code",
   "execution_count": 16,
   "id": "536666e7-89f7-49eb-a845-7658ccae2ce3",
   "metadata": {},
   "outputs": [],
   "source": [
    "from sklearn.preprocessing import StandardScaler\n",
    "from sklearn.cluster import DBSCAN, HDBSCAN, AffinityPropagation, AgglomerativeClustering, OPTICS, KMeans\n",
    "from sklearn.metrics import silhouette_score, davies_bouldin_score, calinski_harabasz_score\n",
    "from sklearn.model_selection import train_test_split\n",
    "from sklearn.decomposition import PCA"
   ]
  },
  {
   "cell_type": "code",
   "execution_count": 17,
   "id": "acf313e0-8fc6-441d-a9f1-ab22ca8c70c6",
   "metadata": {},
   "outputs": [],
   "source": [
    "pca = PCA(2)\n",
    "pca_data = pca.fit_transform(df_bio)\n",
    "pca_data = StandardScaler().fit_transform(pca_data)"
   ]
  },
  {
   "cell_type": "code",
   "execution_count": 18,
   "id": "c5ce8757-12b9-46a0-b2b3-b1efa20695a8",
   "metadata": {},
   "outputs": [
    {
     "data": {
      "text/plain": [
       "(180621, 2)"
      ]
     },
     "execution_count": 18,
     "metadata": {},
     "output_type": "execute_result"
    }
   ],
   "source": [
    "pca_data.shape"
   ]
  },
  {
   "cell_type": "code",
   "execution_count": 19,
   "id": "31df5299-75ad-440c-b33b-fe952651f9ec",
   "metadata": {},
   "outputs": [],
   "source": [
    "first_feature = pca_data[:, 0]\n",
    "second_feature = pca_data[:, 1]"
   ]
  },
  {
   "cell_type": "code",
   "execution_count": 20,
   "id": "74aaa7ad-8c66-4118-bc31-53f8697e3978",
   "metadata": {},
   "outputs": [
    {
     "data": {
      "text/plain": [
       "Text(0, 0.5, 'second_feature')"
      ]
     },
     "execution_count": 20,
     "metadata": {},
     "output_type": "execute_result"
    },
    {
     "data": {
      "image/png": "[encoded data removed]",
      "text/plain": [
       "<Figure size 640x480 with 1 Axes>"
      ]
     },
     "metadata": {},
     "output_type": "display_data"
    }
   ],
   "source": [
    "plt.scatter(first_feature, second_feature, s=1.5)\n",
    "plt.xlabel('first_feature')\n",
    "plt.ylabel('second_feature')"
   ]
  },
  {
   "cell_type": "code",
   "execution_count": 65,
   "id": "e3b2f319-3d39-4d59-b68a-d95669c3be42",
   "metadata": {},
   "outputs": [],
   "source": [
    "models = [KMeans(n_clusters=20), DBSCAN(eps=0.5), HDBSCAN(), OPTICS(), AffinityPropagation(), AgglomerativeClustering()] #AffinityPropagation()"
   ]
  },
  {
   "cell_type": "code",
   "execution_count": 66,
   "id": "47320f01-e2ce-459f-a7fd-acbe5f087e2b",
   "metadata": {},
   "outputs": [],
   "source": [
    "models[1].fit(pca_data)\n",
    "labels = models[1].labels_\n",
    "uniq_labels = np.unique(labels)"
   ]
  },
  {
   "cell_type": "code",
   "execution_count": 50,
   "id": "c8f77170-4b75-4e7f-9667-c649773459c9",
   "metadata": {},
   "outputs": [
    {
     "data": {
      "text/plain": [
       "array([ 0,  1,  2,  3,  4,  5,  6,  7,  8,  9, 10, 11, 12, 13, 14, 15, 16,\n",
       "       17, 18, 19], dtype=int32)"
      ]
     },
     "execution_count": 50,
     "metadata": {},
     "output_type": "execute_result"
    }
   ],
   "source": [
    "uniq_labels"
   ]
  },
  {
   "cell_type": "code",
   "execution_count": 70,
   "id": "1c83fced-5b65-4350-a392-b8b5a1f91c94",
   "metadata": {},
   "outputs": [
    {
     "data": {
      "text/plain": [
       "array([0, 1, 2, 3], dtype=int32)"
      ]
     },
     "execution_count": 70,
     "metadata": {},
     "output_type": "execute_result"
    }
   ],
   "source": [
    "np.unique(labels)"
   ]
  },
  {
   "cell_type": "code",
   "execution_count": 71,
   "id": "3360ec29-a826-4c1e-98e0-5e482dfdc76d",
   "metadata": {},
   "outputs": [
    {
     "data": {
      "text/plain": [
       "{1: (np.float64(0.40987165274329884),\n",
       "  np.float64(0.764714152885398),\n",
       "  np.float64(181816.7186442087))}"
      ]
     },
     "execution_count": 71,
     "metadata": {},
     "output_type": "execute_result"
    }
   ],
   "source": [
    "data"
   ]
  },
  {
   "cell_type": "code",
   "execution_count": 72,
   "id": "61529428-ccc4-4158-9136-e1328d8d1c80",
   "metadata": {},
   "outputs": [],
   "source": [
    "def wcss_score(X, labels):\n",
    "    total_wcss = 0\n",
    "    unique_labels = np.unique(labels)\n",
    "    \n",
    "    for cluster_label in unique_labels:\n",
    "        cluster_indexes = np.where(labels == cluster_label)[0]\n",
    "        total_wcss += np.sum(np.linalg.norm(np.mean(X[cluster_indexes], axis=0) - X[cluster_indexes], axis=1))\n",
    "    \n",
    "    return total_wcss / len(unique_labels)"
   ]
  },
  {
   "cell_type": "code",
   "execution_count": 74,
   "id": "2c653481-e2f9-4325-a364-461d76dda091",
   "metadata": {},
   "outputs": [
    {
     "data": {
      "application/vnd.jupyter.widget-view+json": {
       "model_id": "c7136089ef734516bb343a21a51ea14c",
       "version_major": 2,
       "version_minor": 0
      },
      "text/plain": [
       "  0%|          | 0/4 [00:00<?, ?it/s]"
      ]
     },
     "metadata": {},
     "output_type": "display_data"
    }
   ],
   "source": [
    "data = dict()\n",
    "for i in tqdm(range(2, 6)):\n",
    "    model = KMeans(n_clusters=i)\n",
    "    model.fit(pca_data)\n",
    "    labels = model.labels_\n",
    "    data[i] = (wcss_score(pca_data, labels), silhouette_score(pca_data, labels), davies_bouldin_score(pca_data, labels), calinski_harabasz_score(pca_data, labels))"
   ]
  },
  {
   "cell_type": "code",
   "execution_count": 75,
   "id": "95d77d7d-716a-46fe-abe0-96886d2cd5dd",
   "metadata": {},
   "outputs": [
    {
     "data": {
      "text/plain": [
       "{2: (np.float64(92770.15543088446),\n",
       "  np.float64(0.35447074527002564),\n",
       "  np.float64(1.185171587631968),\n",
       "  np.float64(108657.13225419747)),\n",
       " 3: (np.float64(49273.0655340165),\n",
       "  np.float64(0.37401045396907867),\n",
       "  np.float64(0.8751563378854286),\n",
       "  np.float64(136266.61916926337)),\n",
       " 4: (np.float64(29884.168248921298),\n",
       "  np.float64(0.4098714503615065),\n",
       "  np.float64(0.7647150647438437),\n",
       "  np.float64(181816.72046932357)),\n",
       " 5: (np.float64(21993.255473176803),\n",
       "  np.float64(0.37937165756113445),\n",
       "  np.float64(0.8892362774172735),\n",
       "  np.float64(167024.94279950365))}"
      ]
     },
     "execution_count": 75,
     "metadata": {},
     "output_type": "execute_result"
    }
   ],
   "source": [
    "data"
   ]
  },
  {
   "cell_type": "code",
   "execution_count": 87,
   "id": "4e1c646a-027b-437f-8705-9c70df2ecef8",
   "metadata": {},
   "outputs": [
    {
     "data": {
      "application/vnd.jupyter.widget-view+json": {
       "model_id": "8eebf382cb09439e83f837b82615a4dd",
       "version_major": 2,
       "version_minor": 0
      },
      "text/plain": [
       "  0%|          | 0/8 [00:00<?, ?it/s]"
      ]
     },
     "metadata": {},
     "output_type": "display_data"
    }
   ],
   "source": [
    "data = dict()\n",
    "for i in tqdm(range(2, 10)):\n",
    "    km = KMeans(n_clusters=i)\n",
    "    km.fit(pca_data)\n",
    "    labels = km.labels_\n",
    "    data[i] = (silhouette_score(pca_data, labels), davies_bouldin_score(pca_data, labels), calinski_harabasz_score(pca_data, labels))"
   ]
  },
  {
   "cell_type": "code",
   "execution_count": 90,
   "id": "ea4aa3ee-cd7c-4dd9-b6f3-8cc6fa5decfa",
   "metadata": {},
   "outputs": [],
   "source": [
    "data_new = data"
   ]
  },
  {
   "cell_type": "code",
   "execution_count": 93,
   "id": "4be20220-654f-4e3d-85ce-a728f669083c",
   "metadata": {},
   "outputs": [
    {
     "data": {
      "text/plain": [
       "dict_keys([2, 3, 4, 5, 6, 7, 8, 9])"
      ]
     },
     "execution_count": 93,
     "metadata": {},
     "output_type": "execute_result"
    }
   ],
   "source": [
    "x = (data_new.keys())\n",
    "x"
   ]
  },
  {
   "cell_type": "code",
   "execution_count": 94,
   "id": "0fe6d1eb-0bd3-48da-b01c-da71c94b0dce",
   "metadata": {},
   "outputs": [
    {
     "data": {
      "text/plain": [
       "{2: (np.float64(0.3544707499820802),\n",
       "  np.float64(1.1851716144990918),\n",
       "  np.float64(108657.13226353002)),\n",
       " 3: (np.float64(0.377074494375812),\n",
       "  np.float64(0.8680092801902516),\n",
       "  np.float64(137605.51718310817)),\n",
       " 4: (np.float64(0.4098714503615033),\n",
       "  np.float64(0.7647150647438484),\n",
       "  np.float64(181816.72046932208)),\n",
       " 5: (np.float64(0.3800219764022761),\n",
       "  np.float64(0.8885704920306615),\n",
       "  np.float64(167264.2343690494)),\n",
       " 6: (np.float64(0.3681333108447025),\n",
       "  np.float64(0.8790218652788804),\n",
       "  np.float64(165012.8020612015)),\n",
       " 7: (np.float64(0.36897400956007537),\n",
       "  np.float64(0.8046244560223462),\n",
       "  np.float64(167965.37440722334)),\n",
       " 8: (np.float64(0.3696885955491825),\n",
       "  np.float64(0.7826320710000654),\n",
       "  np.float64(171503.22557197182)),\n",
       " 9: (np.float64(0.34496273779132564),\n",
       "  np.float64(0.9004014635659858),\n",
       "  np.float64(165211.68796810647))}"
      ]
     },
     "execution_count": 94,
     "metadata": {},
     "output_type": "execute_result"
    }
   ],
   "source": [
    "data_new"
   ]
  },
  {
   "cell_type": "code",
   "execution_count": 95,
   "id": "0206c3ad-8da8-4f5b-9750-aea7cbe21518",
   "metadata": {},
   "outputs": [
    {
     "data": {
      "text/plain": [
       "array([[3.54470750e-01, 1.18517161e+00, 1.08657132e+05],\n",
       "       [3.77074494e-01, 8.68009280e-01, 1.37605517e+05],\n",
       "       [4.09871450e-01, 7.64715065e-01, 1.81816720e+05],\n",
       "       [3.80021976e-01, 8.88570492e-01, 1.67264234e+05],\n",
       "       [3.68133311e-01, 8.79021865e-01, 1.65012802e+05],\n",
       "       [3.68974010e-01, 8.04624456e-01, 1.67965374e+05],\n",
       "       [3.69688596e-01, 7.82632071e-01, 1.71503226e+05],\n",
       "       [3.44962738e-01, 9.00401464e-01, 1.65211688e+05]])"
      ]
     },
     "execution_count": 95,
     "metadata": {},
     "output_type": "execute_result"
    }
   ],
   "source": [
    "data = []\n",
    "for key in x:\n",
    "    data.append([data_new[key][0], data_new[key][1], data_new[key][2]])\n",
    "\n",
    "data = np.array(data)\n",
    "data"
   ]
  },
  {
   "cell_type": "code",
   "execution_count": 96,
   "id": "84a5f4bd-2d3a-4172-aa50-5f51d96d6509",
   "metadata": {},
   "outputs": [
    {
     "data": {
      "text/plain": [
       "(8, 3)"
      ]
     },
     "execution_count": 96,
     "metadata": {},
     "output_type": "execute_result"
    }
   ],
   "source": [
    "data.shape"
   ]
  },
  {
   "cell_type": "code",
   "execution_count": 98,
   "id": "a76df3bf-e27d-4375-8699-bf4747b35e45",
   "metadata": {},
   "outputs": [
    {
     "data": {
      "text/plain": [
       "[<matplotlib.lines.Line2D at 0x14a6ea5c0e0>]"
      ]
     },
     "execution_count": 98,
     "metadata": {},
     "output_type": "execute_result"
    },
    {
     "data": {
      "image/png": "[encoded data removed]",
      "text/plain": [
       "<Figure size 640x480 with 1 Axes>"
      ]
     },
     "metadata": {},
     "output_type": "display_data"
    }
   ],
   "source": [
    "# plt.plot(x, data[:, 0], label='silhouette_score')\n",
    "# plt.plot(x, data[:, 1], label='davies_bouldin_score')\n",
    "# plt.legend()\n",
    "plt.plot(x, data[:, 2])"
   ]
  },
  {
   "cell_type": "code",
   "execution_count": 21,
   "id": "242853bb-e44e-4a6a-b2d5-19744c128fd4",
   "metadata": {},
   "outputs": [
    {
     "data": {
      "application/vnd.jupyter.widget-view+json": {
       "model_id": "1975f26edd6144c994cc393b5705c6a3",
       "version_major": 2,
       "version_minor": 0
      },
      "text/plain": [
       "  0%|          | 0/4 [00:00<?, ?it/s]"
      ]
     },
     "metadata": {},
     "output_type": "display_data"
    },
    {
     "data": {
      "image/png": "[encoded data removed]",
      "text/plain": [
       "<Figure size 640x480 with 1 Axes>"
      ]
     },
     "metadata": {},
     "output_type": "display_data"
    }
   ],
   "source": [
    "km = KMeans(n_clusters=4)\n",
    "km.fit(pca_data)\n",
    "labels = km.labels_\n",
    "uniq_labels = np.unique(labels)\n",
    "\n",
    "for val in tqdm(uniq_labels):\n",
    "    data = pca_data[labels==val]\n",
    "    plt.scatter(data[:, 0], data[:, 1], s=1.5)"
   ]
  },
  {
   "cell_type": "code",
   "execution_count": null,
   "id": "a5802b5b-32d6-4da5-a026-1313ce6d37a4",
   "metadata": {},
   "outputs": [],
   "source": [
    "for model in tqdm(models):\n",
    "    model.fit(X_train)\n",
    "    labels = model.labels_\n",
    "    print(f\"{model.__class__.__name__} \\nNum clusters: {len(np.unique(labels))} \\nSilhouette metric: {silhouette_score(X_train, labels)}\")"
   ]
  },
  {
   "cell_type": "code",
   "execution_count": 79,
   "id": "b4bd9bab-f77a-4d90-aac7-ee7e912e947f",
   "metadata": {},
   "outputs": [
    {
     "name": "stdout",
     "output_type": "stream",
     "text": [
      "81\n",
      "22031\n"
     ]
    }
   ],
   "source": [
    "labels_db = db.labels_\n",
    "labels_hdb = hdb.labels_\n",
    "print(len(np.unique(labels_db)))\n",
    "print(len(np.unique(labels_hdb)))"
   ]
  },
  {
   "cell_type": "code",
   "execution_count": 81,
   "id": "cd8598e4-92e5-4e76-8565-0de5a5e74f12",
   "metadata": {},
   "outputs": [
    {
     "name": "stdout",
     "output_type": "stream",
     "text": [
      "Estimated number of clusters: 80\n",
      "Estimated number of noise points: 854\n"
     ]
    }
   ],
   "source": [
    "n_clusters_ = len(set(labels_db)) - (1 if -1 in labels_db else 0)\n",
    "n_noise_ = list(labels_db).count(-1)\n",
    "\n",
    "print(\"Estimated number of clusters: %d\" % n_clusters_)\n",
    "print(\"Estimated number of noise points: %d\" % n_noise_)"
   ]
  },
  {
   "cell_type": "code",
   "execution_count": 22,
   "id": "e58150ee-7e4e-44ab-985c-84803bdfd988",
   "metadata": {},
   "outputs": [],
   "source": [
    "df = df_bio.assign(cls=labels)"
   ]
  },
  {
   "cell_type": "code",
   "execution_count": 23,
   "id": "5d7c7e95-3ff6-41f0-af44-ad429b135f07",
   "metadata": {},
   "outputs": [],
   "source": [
    "df_labels = ['AvgPulse', 'Glucose', 'Oxygenation', 'Pulse', 'Temperature']"
   ]
  },
  {
   "cell_type": "code",
   "execution_count": 24,
   "id": "891f135d-aeaa-41b9-9df5-300b67c5f3dd",
   "metadata": {},
   "outputs": [
    {
     "data": {
      "text/html": [
       "<div>\n",
       "<style scoped>\n",
       "    .dataframe tbody tr th:only-of-type {\n",
       "        vertical-align: middle;\n",
       "    }\n",
       "\n",
       "    .dataframe tbody tr th {\n",
       "        vertical-align: top;\n",
       "    }\n",
       "\n",
       "    .dataframe thead th {\n",
       "        text-align: right;\n",
       "    }\n",
       "</style>\n",
       "<table border=\"1\" class=\"dataframe\">\n",
       "  <thead>\n",
       "    <tr style=\"text-align: right;\">\n",
       "      <th>type</th>\n",
       "      <th>AvgPulse</th>\n",
       "      <th>Glucose</th>\n",
       "      <th>Oxygenation</th>\n",
       "      <th>Pulse</th>\n",
       "      <th>Temperature</th>\n",
       "      <th>cls</th>\n",
       "    </tr>\n",
       "    <tr>\n",
       "      <th>time</th>\n",
       "      <th></th>\n",
       "      <th></th>\n",
       "      <th></th>\n",
       "      <th></th>\n",
       "      <th></th>\n",
       "      <th></th>\n",
       "    </tr>\n",
       "  </thead>\n",
       "  <tbody>\n",
       "    <tr>\n",
       "      <th>2024-03-11 20:38:03.456</th>\n",
       "      <td>90.0</td>\n",
       "      <td>8.0</td>\n",
       "      <td>5.0</td>\n",
       "      <td>82.0</td>\n",
       "      <td>36.6</td>\n",
       "      <td>2</td>\n",
       "    </tr>\n",
       "    <tr>\n",
       "      <th>2024-03-11 20:38:03.686</th>\n",
       "      <td>93.0</td>\n",
       "      <td>7.0</td>\n",
       "      <td>6.0</td>\n",
       "      <td>88.0</td>\n",
       "      <td>36.7</td>\n",
       "      <td>2</td>\n",
       "    </tr>\n",
       "    <tr>\n",
       "      <th>2024-03-11 20:38:03.814</th>\n",
       "      <td>89.0</td>\n",
       "      <td>5.0</td>\n",
       "      <td>5.0</td>\n",
       "      <td>90.0</td>\n",
       "      <td>36.6</td>\n",
       "      <td>3</td>\n",
       "    </tr>\n",
       "    <tr>\n",
       "      <th>2024-03-11 20:38:03.941</th>\n",
       "      <td>87.0</td>\n",
       "      <td>6.0</td>\n",
       "      <td>6.0</td>\n",
       "      <td>87.0</td>\n",
       "      <td>36.5</td>\n",
       "      <td>1</td>\n",
       "    </tr>\n",
       "    <tr>\n",
       "      <th>2024-03-11 20:38:04.066</th>\n",
       "      <td>83.0</td>\n",
       "      <td>5.0</td>\n",
       "      <td>7.0</td>\n",
       "      <td>93.0</td>\n",
       "      <td>36.8</td>\n",
       "      <td>3</td>\n",
       "    </tr>\n",
       "    <tr>\n",
       "      <th>...</th>\n",
       "      <td>...</td>\n",
       "      <td>...</td>\n",
       "      <td>...</td>\n",
       "      <td>...</td>\n",
       "      <td>...</td>\n",
       "      <td>...</td>\n",
       "    </tr>\n",
       "    <tr>\n",
       "      <th>2024-03-12 00:07:23.652</th>\n",
       "      <td>95.0</td>\n",
       "      <td>8.0</td>\n",
       "      <td>5.0</td>\n",
       "      <td>97.0</td>\n",
       "      <td>36.5</td>\n",
       "      <td>0</td>\n",
       "    </tr>\n",
       "    <tr>\n",
       "      <th>2024-03-12 00:07:24.372</th>\n",
       "      <td>85.0</td>\n",
       "      <td>6.0</td>\n",
       "      <td>7.0</td>\n",
       "      <td>80.0</td>\n",
       "      <td>36.8</td>\n",
       "      <td>1</td>\n",
       "    </tr>\n",
       "    <tr>\n",
       "      <th>2024-03-12 00:07:25.823</th>\n",
       "      <td>82.0</td>\n",
       "      <td>6.0</td>\n",
       "      <td>7.0</td>\n",
       "      <td>90.0</td>\n",
       "      <td>36.8</td>\n",
       "      <td>3</td>\n",
       "    </tr>\n",
       "    <tr>\n",
       "      <th>2024-03-12 00:07:27.728</th>\n",
       "      <td>86.0</td>\n",
       "      <td>8.0</td>\n",
       "      <td>6.0</td>\n",
       "      <td>98.0</td>\n",
       "      <td>36.6</td>\n",
       "      <td>3</td>\n",
       "    </tr>\n",
       "    <tr>\n",
       "      <th>2024-03-12 00:07:29.925</th>\n",
       "      <td>81.0</td>\n",
       "      <td>6.0</td>\n",
       "      <td>7.0</td>\n",
       "      <td>85.0</td>\n",
       "      <td>36.7</td>\n",
       "      <td>1</td>\n",
       "    </tr>\n",
       "  </tbody>\n",
       "</table>\n",
       "<p>180621 rows × 6 columns</p>\n",
       "</div>"
      ],
      "text/plain": [
       "type                     AvgPulse  Glucose  Oxygenation  Pulse  Temperature  \\\n",
       "time                                                                          \n",
       "2024-03-11 20:38:03.456      90.0      8.0          5.0   82.0         36.6   \n",
       "2024-03-11 20:38:03.686      93.0      7.0          6.0   88.0         36.7   \n",
       "2024-03-11 20:38:03.814      89.0      5.0          5.0   90.0         36.6   \n",
       "2024-03-11 20:38:03.941      87.0      6.0          6.0   87.0         36.5   \n",
       "2024-03-11 20:38:04.066      83.0      5.0          7.0   93.0         36.8   \n",
       "...                           ...      ...          ...    ...          ...   \n",
       "2024-03-12 00:07:23.652      95.0      8.0          5.0   97.0         36.5   \n",
       "2024-03-12 00:07:24.372      85.0      6.0          7.0   80.0         36.8   \n",
       "2024-03-12 00:07:25.823      82.0      6.0          7.0   90.0         36.8   \n",
       "2024-03-12 00:07:27.728      86.0      8.0          6.0   98.0         36.6   \n",
       "2024-03-12 00:07:29.925      81.0      6.0          7.0   85.0         36.7   \n",
       "\n",
       "type                     cls  \n",
       "time                          \n",
       "2024-03-11 20:38:03.456    2  \n",
       "2024-03-11 20:38:03.686    2  \n",
       "2024-03-11 20:38:03.814    3  \n",
       "2024-03-11 20:38:03.941    1  \n",
       "2024-03-11 20:38:04.066    3  \n",
       "...                      ...  \n",
       "2024-03-12 00:07:23.652    0  \n",
       "2024-03-12 00:07:24.372    1  \n",
       "2024-03-12 00:07:25.823    3  \n",
       "2024-03-12 00:07:27.728    3  \n",
       "2024-03-12 00:07:29.925    1  \n",
       "\n",
       "[180621 rows x 6 columns]"
      ]
     },
     "execution_count": 24,
     "metadata": {},
     "output_type": "execute_result"
    }
   ],
   "source": [
    "df"
   ]
  },
  {
   "cell_type": "markdown",
   "id": "dc8fbc22-74ae-4162-bee2-297c1820c069",
   "metadata": {},
   "source": [
    "# Classification"
   ]
  },
  {
   "cell_type": "code",
   "execution_count": 25,
   "id": "66871e9a-0a17-4012-8a28-8eef97bf2bd3",
   "metadata": {},
   "outputs": [],
   "source": [
    "from sklearn.metrics import ConfusionMatrixDisplay, confusion_matrix\n",
    "from sklearn.metrics import classification_report\n",
    "from sklearn.metrics import accuracy_score\n",
    "from sklearn.metrics import mean_squared_error\n",
    "from sklearn.metrics import recall_score\n",
    "from sklearn.model_selection import cross_val_score\n",
    "\n",
    "import seaborn as sns"
   ]
  },
  {
   "cell_type": "code",
   "execution_count": 26,
   "id": "9feb1382-a14a-42f3-805c-c708e5c554ee",
   "metadata": {},
   "outputs": [],
   "source": [
    "from sklearn.tree import DecisionTreeClassifier\n",
    "from sklearn.ensemble import RandomForestClassifier"
   ]
  },
  {
   "cell_type": "code",
   "execution_count": 29,
   "id": "804e4d71-13a6-404a-baaa-8b7606e4fa3c",
   "metadata": {},
   "outputs": [],
   "source": [
    "X, y = df[df_labels].values, df['cls'].values"
   ]
  },
  {
   "cell_type": "code",
   "execution_count": 30,
   "id": "c971e911-c4cc-4903-b21e-7faa2ff621d2",
   "metadata": {},
   "outputs": [
    {
     "data": {
      "text/plain": [
       "array([[ 0.0886685 ,  1.34109037, -1.41932447, -1.30126354, -0.44815532],\n",
       "       [ 0.60957901,  0.44506896, -0.71080374, -0.25936899,  0.44741158],\n",
       "       [-0.08496833, -1.34697386, -1.41932447,  0.08792919, -0.44815532],\n",
       "       ...,\n",
       "       [-1.30042619, -0.45095245, -0.00228301,  0.08792919,  1.34297847],\n",
       "       [-0.60587884,  1.34109037, -0.71080374,  1.47712193, -0.44815532],\n",
       "       [-1.47406303, -0.45095245, -0.00228301, -0.78031626,  0.44741158]])"
      ]
     },
     "execution_count": 30,
     "metadata": {},
     "output_type": "execute_result"
    }
   ],
   "source": [
    "X_standarted = StandardScaler().fit_transform(X)\n",
    "X_standarted"
   ]
  },
  {
   "cell_type": "code",
   "execution_count": 31,
   "id": "d5b21673-bfac-4193-95f2-dc378142c80e",
   "metadata": {},
   "outputs": [],
   "source": [
    "X_train, X_test, y_train, y_test = train_test_split(X_standarted, y, test_size=0.3, random_state=33)"
   ]
  },
  {
   "cell_type": "code",
   "execution_count": 32,
   "id": "802c509c-e14d-42cb-8099-7780ce10f3f5",
   "metadata": {},
   "outputs": [
    {
     "data": {
      "text/plain": [
       "((126434, 5), (54187, 5))"
      ]
     },
     "execution_count": 32,
     "metadata": {},
     "output_type": "execute_result"
    }
   ],
   "source": [
    "X_train.shape, X_test.shape"
   ]
  },
  {
   "cell_type": "code",
   "execution_count": 33,
   "id": "b69e8f94-33b7-4b5c-91c8-f6128a7a6d17",
   "metadata": {},
   "outputs": [],
   "source": [
    "def report_about_pred(target, predicted):\n",
    "    #target_names = ['work', 'nowork', 'walk'], target_names=target_names\n",
    "    print('----accuracy_score----')\n",
    "    print(accuracy_score(target, predicted))\n",
    "    print('----classification_report----')\n",
    "    print(classification_report(target, predicted))\n",
    "\n",
    "    ax = plt.subplot()\n",
    "    disp = ConfusionMatrixDisplay.from_predictions(target, predicted, ax=ax, xticks_rotation=45)\n",
    "    ax.set_xlabel('Predicted labels')\n",
    "    ax.set_ylabel('True labels')"
   ]
  },
  {
   "cell_type": "code",
   "execution_count": 34,
   "id": "3b16d420-45c1-4edd-813d-d57d7e77134c",
   "metadata": {},
   "outputs": [],
   "source": [
    "dt = DecisionTreeClassifier(random_state=33)"
   ]
  },
  {
   "cell_type": "code",
   "execution_count": 35,
   "id": "0fa75d1b-3cb1-4431-a28c-f05d3dded5c7",
   "metadata": {},
   "outputs": [
    {
     "data": {
      "text/html": [
       "<style>#sk-container-id-1 {\n",
       "  /* Definition of color scheme common for light and dark mode */\n",
       "  --sklearn-color-text: black;\n",
       "  --sklearn-color-line: gray;\n",
       "  /* Definition of color scheme for unfitted estimators */\n",
       "  --sklearn-color-unfitted-level-0: #fff5e6;\n",
       "  --sklearn-color-unfitted-level-1: #f6e4d2;\n",
       "  --sklearn-color-unfitted-level-2: #ffe0b3;\n",
       "  --sklearn-color-unfitted-level-3: chocolate;\n",
       "  /* Definition of color scheme for fitted estimators */\n",
       "  --sklearn-color-fitted-level-0: #f0f8ff;\n",
       "  --sklearn-color-fitted-level-1: #d4ebff;\n",
       "  --sklearn-color-fitted-level-2: #b3dbfd;\n",
       "  --sklearn-color-fitted-level-3: cornflowerblue;\n",
       "\n",
       "  /* Specific color for light theme */\n",
       "  --sklearn-color-text-on-default-background: var(--sg-text-color, var(--theme-code-foreground, var(--jp-content-font-color1, black)));\n",
       "  --sklearn-color-background: var(--sg-background-color, var(--theme-background, var(--jp-layout-color0, white)));\n",
       "  --sklearn-color-border-box: var(--sg-text-color, var(--theme-code-foreground, var(--jp-content-font-color1, black)));\n",
       "  --sklearn-color-icon: #696969;\n",
       "\n",
       "  @media (prefers-color-scheme: dark) {\n",
       "    /* Redefinition of color scheme for dark theme */\n",
       "    --sklearn-color-text-on-default-background: var(--sg-text-color, var(--theme-code-foreground, var(--jp-content-font-color1, white)));\n",
       "    --sklearn-color-background: var(--sg-background-color, var(--theme-background, var(--jp-layout-color0, #111)));\n",
       "    --sklearn-color-border-box: var(--sg-text-color, var(--theme-code-foreground, var(--jp-content-font-color1, white)));\n",
       "    --sklearn-color-icon: #878787;\n",
       "  }\n",
       "}\n",
       "\n",
       "#sk-container-id-1 {\n",
       "  color: var(--sklearn-color-text);\n",
       "}\n",
       "\n",
       "#sk-container-id-1 pre {\n",
       "  padding: 0;\n",
       "}\n",
       "\n",
       "#sk-container-id-1 input.sk-hidden--visually {\n",
       "  border: 0;\n",
       "  clip: rect(1px 1px 1px 1px);\n",
       "  clip: rect(1px, 1px, 1px, 1px);\n",
       "  height: 1px;\n",
       "  margin: -1px;\n",
       "  overflow: hidden;\n",
       "  padding: 0;\n",
       "  position: absolute;\n",
       "  width: 1px;\n",
       "}\n",
       "\n",
       "#sk-container-id-1 div.sk-dashed-wrapped {\n",
       "  border: 1px dashed var(--sklearn-color-line);\n",
       "  margin: 0 0.4em 0.5em 0.4em;\n",
       "  box-sizing: border-box;\n",
       "  padding-bottom: 0.4em;\n",
       "  background-color: var(--sklearn-color-background);\n",
       "}\n",
       "\n",
       "#sk-container-id-1 div.sk-container {\n",
       "  /* jupyter's `normalize.less` sets `[hidden] { display: none; }`\n",
       "     but bootstrap.min.css set `[hidden] { display: none !important; }`\n",
       "     so we also need the `!important` here to be able to override the\n",
       "     default hidden behavior on the sphinx rendered scikit-learn.org.\n",
       "     See: https://github.com/scikit-learn/scikit-learn/issues/21755 */\n",
       "  display: inline-block !important;\n",
       "  position: relative;\n",
       "}\n",
       "\n",
       "#sk-container-id-1 div.sk-text-repr-fallback {\n",
       "  display: none;\n",
       "}\n",
       "\n",
       "div.sk-parallel-item,\n",
       "div.sk-serial,\n",
       "div.sk-item {\n",
       "  /* draw centered vertical line to link estimators */\n",
       "  background-image: linear-gradient(var(--sklearn-color-text-on-default-background), var(--sklearn-color-text-on-default-background));\n",
       "  background-size: 2px 100%;\n",
       "  background-repeat: no-repeat;\n",
       "  background-position: center center;\n",
       "}\n",
       "\n",
       "/* Parallel-specific style estimator block */\n",
       "\n",
       "#sk-container-id-1 div.sk-parallel-item::after {\n",
       "  content: \"\";\n",
       "  width: 100%;\n",
       "  border-bottom: 2px solid var(--sklearn-color-text-on-default-background);\n",
       "  flex-grow: 1;\n",
       "}\n",
       "\n",
       "#sk-container-id-1 div.sk-parallel {\n",
       "  display: flex;\n",
       "  align-items: stretch;\n",
       "  justify-content: center;\n",
       "  background-color: var(--sklearn-color-background);\n",
       "  position: relative;\n",
       "}\n",
       "\n",
       "#sk-container-id-1 div.sk-parallel-item {\n",
       "  display: flex;\n",
       "  flex-direction: column;\n",
       "}\n",
       "\n",
       "#sk-container-id-1 div.sk-parallel-item:first-child::after {\n",
       "  align-self: flex-end;\n",
       "  width: 50%;\n",
       "}\n",
       "\n",
       "#sk-container-id-1 div.sk-parallel-item:last-child::after {\n",
       "  align-self: flex-start;\n",
       "  width: 50%;\n",
       "}\n",
       "\n",
       "#sk-container-id-1 div.sk-parallel-item:only-child::after {\n",
       "  width: 0;\n",
       "}\n",
       "\n",
       "/* Serial-specific style estimator block */\n",
       "\n",
       "#sk-container-id-1 div.sk-serial {\n",
       "  display: flex;\n",
       "  flex-direction: column;\n",
       "  align-items: center;\n",
       "  background-color: var(--sklearn-color-background);\n",
       "  padding-right: 1em;\n",
       "  padding-left: 1em;\n",
       "}\n",
       "\n",
       "\n",
       "/* Toggleable style: style used for estimator/Pipeline/ColumnTransformer box that is\n",
       "clickable and can be expanded/collapsed.\n",
       "- Pipeline and ColumnTransformer use this feature and define the default style\n",
       "- Estimators will overwrite some part of the style using the `sk-estimator` class\n",
       "*/\n",
       "\n",
       "/* Pipeline and ColumnTransformer style (default) */\n",
       "\n",
       "#sk-container-id-1 div.sk-toggleable {\n",
       "  /* Default theme specific background. It is overwritten whether we have a\n",
       "  specific estimator or a Pipeline/ColumnTransformer */\n",
       "  background-color: var(--sklearn-color-background);\n",
       "}\n",
       "\n",
       "/* Toggleable label */\n",
       "#sk-container-id-1 label.sk-toggleable__label {\n",
       "  cursor: pointer;\n",
       "  display: block;\n",
       "  width: 100%;\n",
       "  margin-bottom: 0;\n",
       "  padding: 0.5em;\n",
       "  box-sizing: border-box;\n",
       "  text-align: center;\n",
       "}\n",
       "\n",
       "#sk-container-id-1 label.sk-toggleable__label-arrow:before {\n",
       "  /* Arrow on the left of the label */\n",
       "  content: \"▸\";\n",
       "  float: left;\n",
       "  margin-right: 0.25em;\n",
       "  color: var(--sklearn-color-icon);\n",
       "}\n",
       "\n",
       "#sk-container-id-1 label.sk-toggleable__label-arrow:hover:before {\n",
       "  color: var(--sklearn-color-text);\n",
       "}\n",
       "\n",
       "/* Toggleable content - dropdown */\n",
       "\n",
       "#sk-container-id-1 div.sk-toggleable__content {\n",
       "  max-height: 0;\n",
       "  max-width: 0;\n",
       "  overflow: hidden;\n",
       "  text-align: left;\n",
       "  /* unfitted */\n",
       "  background-color: var(--sklearn-color-unfitted-level-0);\n",
       "}\n",
       "\n",
       "#sk-container-id-1 div.sk-toggleable__content.fitted {\n",
       "  /* fitted */\n",
       "  background-color: var(--sklearn-color-fitted-level-0);\n",
       "}\n",
       "\n",
       "#sk-container-id-1 div.sk-toggleable__content pre {\n",
       "  margin: 0.2em;\n",
       "  border-radius: 0.25em;\n",
       "  color: var(--sklearn-color-text);\n",
       "  /* unfitted */\n",
       "  background-color: var(--sklearn-color-unfitted-level-0);\n",
       "}\n",
       "\n",
       "#sk-container-id-1 div.sk-toggleable__content.fitted pre {\n",
       "  /* unfitted */\n",
       "  background-color: var(--sklearn-color-fitted-level-0);\n",
       "}\n",
       "\n",
       "#sk-container-id-1 input.sk-toggleable__control:checked~div.sk-toggleable__content {\n",
       "  /* Expand drop-down */\n",
       "  max-height: 200px;\n",
       "  max-width: 100%;\n",
       "  overflow: auto;\n",
       "}\n",
       "\n",
       "#sk-container-id-1 input.sk-toggleable__control:checked~label.sk-toggleable__label-arrow:before {\n",
       "  content: \"▾\";\n",
       "}\n",
       "\n",
       "/* Pipeline/ColumnTransformer-specific style */\n",
       "\n",
       "#sk-container-id-1 div.sk-label input.sk-toggleable__control:checked~label.sk-toggleable__label {\n",
       "  color: var(--sklearn-color-text);\n",
       "  background-color: var(--sklearn-color-unfitted-level-2);\n",
       "}\n",
       "\n",
       "#sk-container-id-1 div.sk-label.fitted input.sk-toggleable__control:checked~label.sk-toggleable__label {\n",
       "  background-color: var(--sklearn-color-fitted-level-2);\n",
       "}\n",
       "\n",
       "/* Estimator-specific style */\n",
       "\n",
       "/* Colorize estimator box */\n",
       "#sk-container-id-1 div.sk-estimator input.sk-toggleable__control:checked~label.sk-toggleable__label {\n",
       "  /* unfitted */\n",
       "  background-color: var(--sklearn-color-unfitted-level-2);\n",
       "}\n",
       "\n",
       "#sk-container-id-1 div.sk-estimator.fitted input.sk-toggleable__control:checked~label.sk-toggleable__label {\n",
       "  /* fitted */\n",
       "  background-color: var(--sklearn-color-fitted-level-2);\n",
       "}\n",
       "\n",
       "#sk-container-id-1 div.sk-label label.sk-toggleable__label,\n",
       "#sk-container-id-1 div.sk-label label {\n",
       "  /* The background is the default theme color */\n",
       "  color: var(--sklearn-color-text-on-default-background);\n",
       "}\n",
       "\n",
       "/* On hover, darken the color of the background */\n",
       "#sk-container-id-1 div.sk-label:hover label.sk-toggleable__label {\n",
       "  color: var(--sklearn-color-text);\n",
       "  background-color: var(--sklearn-color-unfitted-level-2);\n",
       "}\n",
       "\n",
       "/* Label box, darken color on hover, fitted */\n",
       "#sk-container-id-1 div.sk-label.fitted:hover label.sk-toggleable__label.fitted {\n",
       "  color: var(--sklearn-color-text);\n",
       "  background-color: var(--sklearn-color-fitted-level-2);\n",
       "}\n",
       "\n",
       "/* Estimator label */\n",
       "\n",
       "#sk-container-id-1 div.sk-label label {\n",
       "  font-family: monospace;\n",
       "  font-weight: bold;\n",
       "  display: inline-block;\n",
       "  line-height: 1.2em;\n",
       "}\n",
       "\n",
       "#sk-container-id-1 div.sk-label-container {\n",
       "  text-align: center;\n",
       "}\n",
       "\n",
       "/* Estimator-specific */\n",
       "#sk-container-id-1 div.sk-estimator {\n",
       "  font-family: monospace;\n",
       "  border: 1px dotted var(--sklearn-color-border-box);\n",
       "  border-radius: 0.25em;\n",
       "  box-sizing: border-box;\n",
       "  margin-bottom: 0.5em;\n",
       "  /* unfitted */\n",
       "  background-color: var(--sklearn-color-unfitted-level-0);\n",
       "}\n",
       "\n",
       "#sk-container-id-1 div.sk-estimator.fitted {\n",
       "  /* fitted */\n",
       "  background-color: var(--sklearn-color-fitted-level-0);\n",
       "}\n",
       "\n",
       "/* on hover */\n",
       "#sk-container-id-1 div.sk-estimator:hover {\n",
       "  /* unfitted */\n",
       "  background-color: var(--sklearn-color-unfitted-level-2);\n",
       "}\n",
       "\n",
       "#sk-container-id-1 div.sk-estimator.fitted:hover {\n",
       "  /* fitted */\n",
       "  background-color: var(--sklearn-color-fitted-level-2);\n",
       "}\n",
       "\n",
       "/* Specification for estimator info (e.g. \"i\" and \"?\") */\n",
       "\n",
       "/* Common style for \"i\" and \"?\" */\n",
       "\n",
       ".sk-estimator-doc-link,\n",
       "a:link.sk-estimator-doc-link,\n",
       "a:visited.sk-estimator-doc-link {\n",
       "  float: right;\n",
       "  font-size: smaller;\n",
       "  line-height: 1em;\n",
       "  font-family: monospace;\n",
       "  background-color: var(--sklearn-color-background);\n",
       "  border-radius: 1em;\n",
       "  height: 1em;\n",
       "  width: 1em;\n",
       "  text-decoration: none !important;\n",
       "  margin-left: 1ex;\n",
       "  /* unfitted */\n",
       "  border: var(--sklearn-color-unfitted-level-1) 1pt solid;\n",
       "  color: var(--sklearn-color-unfitted-level-1);\n",
       "}\n",
       "\n",
       ".sk-estimator-doc-link.fitted,\n",
       "a:link.sk-estimator-doc-link.fitted,\n",
       "a:visited.sk-estimator-doc-link.fitted {\n",
       "  /* fitted */\n",
       "  border: var(--sklearn-color-fitted-level-1) 1pt solid;\n",
       "  color: var(--sklearn-color-fitted-level-1);\n",
       "}\n",
       "\n",
       "/* On hover */\n",
       "div.sk-estimator:hover .sk-estimator-doc-link:hover,\n",
       ".sk-estimator-doc-link:hover,\n",
       "div.sk-label-container:hover .sk-estimator-doc-link:hover,\n",
       ".sk-estimator-doc-link:hover {\n",
       "  /* unfitted */\n",
       "  background-color: var(--sklearn-color-unfitted-level-3);\n",
       "  color: var(--sklearn-color-background);\n",
       "  text-decoration: none;\n",
       "}\n",
       "\n",
       "div.sk-estimator.fitted:hover .sk-estimator-doc-link.fitted:hover,\n",
       ".sk-estimator-doc-link.fitted:hover,\n",
       "div.sk-label-container:hover .sk-estimator-doc-link.fitted:hover,\n",
       ".sk-estimator-doc-link.fitted:hover {\n",
       "  /* fitted */\n",
       "  background-color: var(--sklearn-color-fitted-level-3);\n",
       "  color: var(--sklearn-color-background);\n",
       "  text-decoration: none;\n",
       "}\n",
       "\n",
       "/* Span, style for the box shown on hovering the info icon */\n",
       ".sk-estimator-doc-link span {\n",
       "  display: none;\n",
       "  z-index: 9999;\n",
       "  position: relative;\n",
       "  font-weight: normal;\n",
       "  right: .2ex;\n",
       "  padding: .5ex;\n",
       "  margin: .5ex;\n",
       "  width: min-content;\n",
       "  min-width: 20ex;\n",
       "  max-width: 50ex;\n",
       "  color: var(--sklearn-color-text);\n",
       "  box-shadow: 2pt 2pt 4pt #999;\n",
       "  /* unfitted */\n",
       "  background: var(--sklearn-color-unfitted-level-0);\n",
       "  border: .5pt solid var(--sklearn-color-unfitted-level-3);\n",
       "}\n",
       "\n",
       ".sk-estimator-doc-link.fitted span {\n",
       "  /* fitted */\n",
       "  background: var(--sklearn-color-fitted-level-0);\n",
       "  border: var(--sklearn-color-fitted-level-3);\n",
       "}\n",
       "\n",
       ".sk-estimator-doc-link:hover span {\n",
       "  display: block;\n",
       "}\n",
       "\n",
       "/* \"?\"-specific style due to the `<a>` HTML tag */\n",
       "\n",
       "#sk-container-id-1 a.estimator_doc_link {\n",
       "  float: right;\n",
       "  font-size: 1rem;\n",
       "  line-height: 1em;\n",
       "  font-family: monospace;\n",
       "  background-color: var(--sklearn-color-background);\n",
       "  border-radius: 1rem;\n",
       "  height: 1rem;\n",
       "  width: 1rem;\n",
       "  text-decoration: none;\n",
       "  /* unfitted */\n",
       "  color: var(--sklearn-color-unfitted-level-1);\n",
       "  border: var(--sklearn-color-unfitted-level-1) 1pt solid;\n",
       "}\n",
       "\n",
       "#sk-container-id-1 a.estimator_doc_link.fitted {\n",
       "  /* fitted */\n",
       "  border: var(--sklearn-color-fitted-level-1) 1pt solid;\n",
       "  color: var(--sklearn-color-fitted-level-1);\n",
       "}\n",
       "\n",
       "/* On hover */\n",
       "#sk-container-id-1 a.estimator_doc_link:hover {\n",
       "  /* unfitted */\n",
       "  background-color: var(--sklearn-color-unfitted-level-3);\n",
       "  color: var(--sklearn-color-background);\n",
       "  text-decoration: none;\n",
       "}\n",
       "\n",
       "#sk-container-id-1 a.estimator_doc_link.fitted:hover {\n",
       "  /* fitted */\n",
       "  background-color: var(--sklearn-color-fitted-level-3);\n",
       "}\n",
       "</style><div id=\"sk-container-id-1\" class=\"sk-top-container\"><div class=\"sk-text-repr-fallback\"><pre>DecisionTreeClassifier(random_state=33)</pre><b>In a Jupyter environment, please rerun this cell to show the HTML representation or trust the notebook. <br />On GitHub, the HTML representation is unable to render, please try loading this page with nbviewer.org.</b></div><div class=\"sk-container\" hidden><div class=\"sk-item\"><div class=\"sk-estimator fitted sk-toggleable\"><input class=\"sk-toggleable__control sk-hidden--visually\" id=\"sk-estimator-id-1\" type=\"checkbox\" checked><label for=\"sk-estimator-id-1\" class=\"sk-toggleable__label fitted sk-toggleable__label-arrow fitted\">&nbsp;&nbsp;DecisionTreeClassifier<a class=\"sk-estimator-doc-link fitted\" rel=\"noreferrer\" target=\"_blank\" href=\"https://scikit-learn.org/1.4/modules/generated/sklearn.tree.DecisionTreeClassifier.html\">?<span>Documentation for DecisionTreeClassifier</span></a><span class=\"sk-estimator-doc-link fitted\">i<span>Fitted</span></span></label><div class=\"sk-toggleable__content fitted\"><pre>DecisionTreeClassifier(random_state=33)</pre></div> </div></div></div></div>"
      ],
      "text/plain": [
       "DecisionTreeClassifier(random_state=33)"
      ]
     },
     "execution_count": 35,
     "metadata": {},
     "output_type": "execute_result"
    }
   ],
   "source": [
    "dt.fit(X_train, y_train)"
   ]
  },
  {
   "cell_type": "code",
   "execution_count": 36,
   "id": "0172891b-0c7d-414c-9ea4-62cb2851e5aa",
   "metadata": {},
   "outputs": [],
   "source": [
    "pred = dt.predict(X_test)"
   ]
  },
  {
   "cell_type": "code",
   "execution_count": 37,
   "id": "e193231c-da58-4b6b-a42a-68e767e5cf33",
   "metadata": {},
   "outputs": [
    {
     "name": "stdout",
     "output_type": "stream",
     "text": [
      "----accuracy_score----\n",
      "0.9999446361673464\n",
      "----classification_report----\n",
      "              precision    recall  f1-score   support\n",
      "\n",
      "           0       1.00      1.00      1.00     13421\n",
      "           1       1.00      1.00      1.00     13601\n",
      "           2       1.00      1.00      1.00     13500\n",
      "           3       1.00      1.00      1.00     13665\n",
      "\n",
      "    accuracy                           1.00     54187\n",
      "   macro avg       1.00      1.00      1.00     54187\n",
      "weighted avg       1.00      1.00      1.00     54187\n",
      "\n"
     ]
    },
    {
     "data": {
      "image/png": "[encoded data removed]",
      "text/plain": [
       "<Figure size 640x480 with 2 Axes>"
      ]
     },
     "metadata": {},
     "output_type": "display_data"
    }
   ],
   "source": [
    "report_about_pred(y_test, pred)"
   ]
  },
  {
   "cell_type": "code",
   "execution_count": 38,
   "id": "84e1e21c-3998-41f2-b074-45c6ae3566b3",
   "metadata": {},
   "outputs": [],
   "source": [
    "rf = RandomForestClassifier(random_state=33)"
   ]
  },
  {
   "cell_type": "code",
   "execution_count": 39,
   "id": "1acc823d-ac9e-431d-b623-7513036e11f5",
   "metadata": {},
   "outputs": [],
   "source": [
    "rf.fit(X_train, y_train)\n",
    "pred = rf.predict(X_test)"
   ]
  },
  {
   "cell_type": "code",
   "execution_count": 40,
   "id": "6571b686-2b6e-4456-a42a-f8aac378c9e6",
   "metadata": {},
   "outputs": [
    {
     "name": "stdout",
     "output_type": "stream",
     "text": [
      "----accuracy_score----\n",
      "0.9999261815564618\n",
      "----classification_report----\n",
      "              precision    recall  f1-score   support\n",
      "\n",
      "           0       1.00      1.00      1.00     13421\n",
      "           1       1.00      1.00      1.00     13601\n",
      "           2       1.00      1.00      1.00     13500\n",
      "           3       1.00      1.00      1.00     13665\n",
      "\n",
      "    accuracy                           1.00     54187\n",
      "   macro avg       1.00      1.00      1.00     54187\n",
      "weighted avg       1.00      1.00      1.00     54187\n",
      "\n"
     ]
    },
    {
     "data": {
      "image/png": "[encoded data removed]",
      "text/plain": [
       "<Figure size 640x480 with 2 Axes>"
      ]
     },
     "metadata": {},
     "output_type": "display_data"
    }
   ],
   "source": [
    "report_about_pred(y_test, pred)"
   ]
  },
  {
   "cell_type": "markdown",
   "id": "e04b5dc3-3aca-4656-ba1b-bc4e4d89b9e6",
   "metadata": {},
   "source": [
    "# Анализ классов и их взаимосвязь с глюкозой"
   ]
  },
  {
   "cell_type": "code",
   "execution_count": 41,
   "id": "c29f347b-69d4-41ea-ad80-300e5f13ca65",
   "metadata": {},
   "outputs": [
    {
     "data": {
      "text/html": [
       "<div>\n",
       "<style scoped>\n",
       "    .dataframe tbody tr th:only-of-type {\n",
       "        vertical-align: middle;\n",
       "    }\n",
       "\n",
       "    .dataframe tbody tr th {\n",
       "        vertical-align: top;\n",
       "    }\n",
       "\n",
       "    .dataframe thead th {\n",
       "        text-align: right;\n",
       "    }\n",
       "</style>\n",
       "<table border=\"1\" class=\"dataframe\">\n",
       "  <thead>\n",
       "    <tr style=\"text-align: right;\">\n",
       "      <th>type</th>\n",
       "      <th>AvgPulse</th>\n",
       "      <th>Glucose</th>\n",
       "      <th>Oxygenation</th>\n",
       "      <th>Pulse</th>\n",
       "      <th>Temperature</th>\n",
       "      <th>cls</th>\n",
       "    </tr>\n",
       "    <tr>\n",
       "      <th>time</th>\n",
       "      <th></th>\n",
       "      <th></th>\n",
       "      <th></th>\n",
       "      <th></th>\n",
       "      <th></th>\n",
       "      <th></th>\n",
       "    </tr>\n",
       "  </thead>\n",
       "  <tbody>\n",
       "    <tr>\n",
       "      <th>2024-03-11 20:38:03.456</th>\n",
       "      <td>90.0</td>\n",
       "      <td>8.0</td>\n",
       "      <td>5.0</td>\n",
       "      <td>82.0</td>\n",
       "      <td>36.6</td>\n",
       "      <td>2</td>\n",
       "    </tr>\n",
       "    <tr>\n",
       "      <th>2024-03-11 20:38:03.686</th>\n",
       "      <td>93.0</td>\n",
       "      <td>7.0</td>\n",
       "      <td>6.0</td>\n",
       "      <td>88.0</td>\n",
       "      <td>36.7</td>\n",
       "      <td>2</td>\n",
       "    </tr>\n",
       "    <tr>\n",
       "      <th>2024-03-11 20:38:03.814</th>\n",
       "      <td>89.0</td>\n",
       "      <td>5.0</td>\n",
       "      <td>5.0</td>\n",
       "      <td>90.0</td>\n",
       "      <td>36.6</td>\n",
       "      <td>3</td>\n",
       "    </tr>\n",
       "    <tr>\n",
       "      <th>2024-03-11 20:38:03.941</th>\n",
       "      <td>87.0</td>\n",
       "      <td>6.0</td>\n",
       "      <td>6.0</td>\n",
       "      <td>87.0</td>\n",
       "      <td>36.5</td>\n",
       "      <td>1</td>\n",
       "    </tr>\n",
       "    <tr>\n",
       "      <th>2024-03-11 20:38:04.066</th>\n",
       "      <td>83.0</td>\n",
       "      <td>5.0</td>\n",
       "      <td>7.0</td>\n",
       "      <td>93.0</td>\n",
       "      <td>36.8</td>\n",
       "      <td>3</td>\n",
       "    </tr>\n",
       "    <tr>\n",
       "      <th>...</th>\n",
       "      <td>...</td>\n",
       "      <td>...</td>\n",
       "      <td>...</td>\n",
       "      <td>...</td>\n",
       "      <td>...</td>\n",
       "      <td>...</td>\n",
       "    </tr>\n",
       "    <tr>\n",
       "      <th>2024-03-12 00:07:23.652</th>\n",
       "      <td>95.0</td>\n",
       "      <td>8.0</td>\n",
       "      <td>5.0</td>\n",
       "      <td>97.0</td>\n",
       "      <td>36.5</td>\n",
       "      <td>0</td>\n",
       "    </tr>\n",
       "    <tr>\n",
       "      <th>2024-03-12 00:07:24.372</th>\n",
       "      <td>85.0</td>\n",
       "      <td>6.0</td>\n",
       "      <td>7.0</td>\n",
       "      <td>80.0</td>\n",
       "      <td>36.8</td>\n",
       "      <td>1</td>\n",
       "    </tr>\n",
       "    <tr>\n",
       "      <th>2024-03-12 00:07:25.823</th>\n",
       "      <td>82.0</td>\n",
       "      <td>6.0</td>\n",
       "      <td>7.0</td>\n",
       "      <td>90.0</td>\n",
       "      <td>36.8</td>\n",
       "      <td>3</td>\n",
       "    </tr>\n",
       "    <tr>\n",
       "      <th>2024-03-12 00:07:27.728</th>\n",
       "      <td>86.0</td>\n",
       "      <td>8.0</td>\n",
       "      <td>6.0</td>\n",
       "      <td>98.0</td>\n",
       "      <td>36.6</td>\n",
       "      <td>3</td>\n",
       "    </tr>\n",
       "    <tr>\n",
       "      <th>2024-03-12 00:07:29.925</th>\n",
       "      <td>81.0</td>\n",
       "      <td>6.0</td>\n",
       "      <td>7.0</td>\n",
       "      <td>85.0</td>\n",
       "      <td>36.7</td>\n",
       "      <td>1</td>\n",
       "    </tr>\n",
       "  </tbody>\n",
       "</table>\n",
       "<p>180621 rows × 6 columns</p>\n",
       "</div>"
      ],
      "text/plain": [
       "type                     AvgPulse  Glucose  Oxygenation  Pulse  Temperature  \\\n",
       "time                                                                          \n",
       "2024-03-11 20:38:03.456      90.0      8.0          5.0   82.0         36.6   \n",
       "2024-03-11 20:38:03.686      93.0      7.0          6.0   88.0         36.7   \n",
       "2024-03-11 20:38:03.814      89.0      5.0          5.0   90.0         36.6   \n",
       "2024-03-11 20:38:03.941      87.0      6.0          6.0   87.0         36.5   \n",
       "2024-03-11 20:38:04.066      83.0      5.0          7.0   93.0         36.8   \n",
       "...                           ...      ...          ...    ...          ...   \n",
       "2024-03-12 00:07:23.652      95.0      8.0          5.0   97.0         36.5   \n",
       "2024-03-12 00:07:24.372      85.0      6.0          7.0   80.0         36.8   \n",
       "2024-03-12 00:07:25.823      82.0      6.0          7.0   90.0         36.8   \n",
       "2024-03-12 00:07:27.728      86.0      8.0          6.0   98.0         36.6   \n",
       "2024-03-12 00:07:29.925      81.0      6.0          7.0   85.0         36.7   \n",
       "\n",
       "type                     cls  \n",
       "time                          \n",
       "2024-03-11 20:38:03.456    2  \n",
       "2024-03-11 20:38:03.686    2  \n",
       "2024-03-11 20:38:03.814    3  \n",
       "2024-03-11 20:38:03.941    1  \n",
       "2024-03-11 20:38:04.066    3  \n",
       "...                      ...  \n",
       "2024-03-12 00:07:23.652    0  \n",
       "2024-03-12 00:07:24.372    1  \n",
       "2024-03-12 00:07:25.823    3  \n",
       "2024-03-12 00:07:27.728    3  \n",
       "2024-03-12 00:07:29.925    1  \n",
       "\n",
       "[180621 rows x 6 columns]"
      ]
     },
     "execution_count": 41,
     "metadata": {},
     "output_type": "execute_result"
    }
   ],
   "source": [
    "df"
   ]
  },
  {
   "cell_type": "code",
   "execution_count": 42,
   "id": "9df44d4b-c0b3-4f16-968f-8ce86ec3412e",
   "metadata": {},
   "outputs": [
    {
     "data": {
      "text/plain": [
       "array([0, 1, 2, 3], dtype=int32)"
      ]
     },
     "execution_count": 42,
     "metadata": {},
     "output_type": "execute_result"
    }
   ],
   "source": [
    "uniq_cls = np.unique(df['cls'])\n",
    "uniq_cls"
   ]
  },
  {
   "cell_type": "code",
   "execution_count": 45,
   "id": "0c96546e-f9ae-4ea8-ab7d-e166909ca0ab",
   "metadata": {},
   "outputs": [],
   "source": [
    "data = df[['Glucose', 'cls']].values"
   ]
  },
  {
   "cell_type": "code",
   "execution_count": 61,
   "id": "6c54397e-b443-4519-9323-06d5d20ceffb",
   "metadata": {},
   "outputs": [],
   "source": [
    "gluc_data = df_bio['Glucose'].values"
   ]
  },
  {
   "cell_type": "code",
   "execution_count": 47,
   "id": "1f9a64cc-a42b-48c6-b849-f607d6724327",
   "metadata": {},
   "outputs": [
    {
     "data": {
      "text/plain": [
       "array([[5., 0.],\n",
       "       [5., 0.],\n",
       "       [8., 0.],\n",
       "       ...,\n",
       "       [5., 0.],\n",
       "       [5., 0.],\n",
       "       [8., 0.]])"
      ]
     },
     "execution_count": 47,
     "metadata": {},
     "output_type": "execute_result"
    }
   ],
   "source": [
    "data[np.where(data[:, 1]==0)]"
   ]
  },
  {
   "cell_type": "code",
   "execution_count": null,
   "id": "5aa37f01-ae52-4457-98b1-7b667f2d4646",
   "metadata": {},
   "outputs": [],
   "source": [
    "#нужно 2 и 3 класс объединить они одинаковы"
   ]
  },
  {
   "cell_type": "code",
   "execution_count": 64,
   "id": "24a78f5f-3608-44ec-b540-a1340e08f1b2",
   "metadata": {},
   "outputs": [
    {
     "data": {
      "image/png": "[encoded data removed]",
      "text/plain": [
       "<Figure size 640x480 with 4 Axes>"
      ]
     },
     "metadata": {},
     "output_type": "display_data"
    }
   ],
   "source": [
    "fig, ax = plt.subplots(1, len(uniq_cls))\n",
    "\n",
    "for i in uniq_cls:\n",
    "    temp = gluc_data[np.where(data[:, 1]==i)]\n",
    "    ax[i].boxplot(temp)\n",
    "    ax[i].set_title(f'Cls {i}')\n",
    "    ax[i].grid()"
   ]
  }
 ],
 "metadata": {
  "kernelspec": {
   "display_name": "Python 3 (ipykernel)",
   "language": "python",
   "name": "python3"
  },
  "language_info": {
   "codemirror_mode": {
    "name": "ipython",
    "version": 3
   },
   "file_extension": ".py",
   "mimetype": "text/x-python",
   "name": "python",
   "nbconvert_exporter": "python",
   "pygments_lexer": "ipython3",
   "version": "3.12.0"
  }
 },
 "nbformat": 4,
 "nbformat_minor": 5
}
